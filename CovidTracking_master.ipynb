{
 "cells": [
  {
   "cell_type": "markdown",
   "metadata": {},
   "source": [
    "### Import modules"
   ]
  },
  {
   "cell_type": "code",
   "execution_count": 115,
   "metadata": {},
   "outputs": [],
   "source": [
    "import pandas as pd\n",
    "import numpy as np\n",
    "import matplotlib.pyplot as plt\n",
    "import seaborn as sns\n",
    "sns.set(style=\"darkgrid\")"
   ]
  },
  {
   "cell_type": "markdown",
   "metadata": {},
   "source": [
    "### Point to the data feeds"
   ]
  },
  {
   "cell_type": "code",
   "execution_count": 89,
   "metadata": {},
   "outputs": [],
   "source": [
    "url = 'https://covidtracking.com/api/v1/states/daily.csv'\n",
    "url_usa = 'https://covidtracking.com/api/v1/us/daily.csv'"
   ]
  },
  {
   "cell_type": "markdown",
   "metadata": {},
   "source": [
    "### Feature Engineering and Cleaning"
   ]
  },
  {
   "cell_type": "code",
   "execution_count": 90,
   "metadata": {},
   "outputs": [],
   "source": [
    "df = pd.read_csv(url_usa)\n",
    "df = df.fillna(0)\n",
    "df['date'] = pd.to_datetime(df['date'], format=\"%Y%m%d\")\n",
    "df['positiveTestRate'] = df['positiveIncrease'] / df['totalTestResultsIncrease']\n",
    "\n",
    "# Clean data \n",
    "\n",
    "data = pd.read_csv(url)\n",
    "data = data.fillna(0)\n",
    "data['date'] = pd.to_datetime(data['date'], format=\"%Y%m%d\")\n",
    "data['positiveTestRate'] = data['positiveIncrease'] / data['totalTestResultsIncrease']"
   ]
  },
  {
   "cell_type": "code",
   "execution_count": 91,
   "metadata": {},
   "outputs": [],
   "source": [
    "data['7sum_posCases'] = data.groupby('state')['positiveIncrease'].rolling(7).sum().shift(-6).reset_index(0,drop=True)\n",
    "data['14sum_posCases'] = data.groupby('state')['positiveIncrease'].rolling(14).sum().shift(-13).reset_index(0,drop=True)\n",
    "data['21sum_posCases'] = data.groupby('state')['positiveIncrease'].rolling(21).sum().shift(-20).reset_index(0,drop=True)\n",
    "data['7sum_totTests'] = data.groupby('state')['totalTestResultsIncrease'].rolling(7).sum().shift(-6).reset_index(0,drop=True)\n",
    "data['14sum_totTests'] = data.groupby('state')['totalTestResultsIncrease'].rolling(14).sum().shift(-13).reset_index(0,drop=True)\n",
    "data['21sum_totTests'] = data.groupby('state')['totalTestResultsIncrease'].rolling(21).sum().shift(-20).reset_index(0,drop=True)\n",
    "data['7ma_positiveTestRate'] = data['7sum_posCases'] / data['7sum_totTests']\n",
    "data['14ma_positiveTestRate'] = data['14sum_posCases'] / data['14sum_totTests']\n",
    "data['21ma_positiveTestRate'] = data['21sum_posCases'] / data['21sum_totTests']\n",
    "data['7sum_totHospitalizedIncrease'] = data.groupby('state')['hospitalizedIncrease'].rolling(7).sum().shift(-6).reset_index(0,drop=True)\n",
    "data['14sum_totHospitalizedIncrease'] = data.groupby('state')['hospitalizedIncrease'].rolling(14).sum().shift(-13).reset_index(0,drop=True)\n",
    "data['21sum_totHospitalizedIncrease'] = data.groupby('state')['hospitalizedIncrease'].rolling(21).sum().shift(-20).reset_index(0,drop=True)\n",
    "data['7sum_deathIncrease'] = data.groupby('state')['deathIncrease'].rolling(7).sum().shift(-6).reset_index(0,drop=True)\n",
    "data['14sum_deathIncrease'] = data.groupby('state')['deathIncrease'].rolling(14).sum().shift(-13).reset_index(0,drop=True)\n",
    "data['21sum_deathIncrease'] = data.groupby('state')['deathIncrease'].rolling(21).sum().shift(-20).reset_index(0,drop=True)\n",
    "data['7ma_deathIncrease'] = data['7sum_deathIncrease'] / 7\n",
    "data['14ma_deathIncrease'] = data['14sum_deathIncrease'] / 14\n",
    "data['21ma_deathIncrease'] = data['21sum_deathIncrease'] / 21\n"
   ]
  },
  {
   "cell_type": "code",
   "execution_count": 92,
   "metadata": {},
   "outputs": [],
   "source": [
    "data2 = data['positiveIncrease'].groupby(data['date']).sum()"
   ]
  },
  {
   "cell_type": "code",
   "execution_count": 93,
   "metadata": {},
   "outputs": [],
   "source": [
    "data2 = data2.to_frame()"
   ]
  },
  {
   "cell_type": "code",
   "execution_count": 94,
   "metadata": {},
   "outputs": [],
   "source": [
    "data3 = data.merge(data2, on=['date', 'date'])"
   ]
  },
  {
   "cell_type": "code",
   "execution_count": 95,
   "metadata": {},
   "outputs": [
    {
     "data": {
      "text/plain": [
       "Index(['date', 'state', 'positive', 'negative', 'pending',\n",
       "       'hospitalizedCurrently', 'hospitalizedCumulative', 'inIcuCurrently',\n",
       "       'inIcuCumulative', 'onVentilatorCurrently', 'onVentilatorCumulative',\n",
       "       'recovered', 'dataQualityGrade', 'lastUpdateEt', 'dateModified',\n",
       "       'checkTimeEt', 'death', 'hospitalized', 'dateChecked',\n",
       "       'totalTestsViral', 'positiveTestsViral', 'negativeTestsViral',\n",
       "       'positiveCasesViral', 'fips', 'positiveIncrease_x', 'negativeIncrease',\n",
       "       'total', 'totalTestResults', 'totalTestResultsIncrease', 'posNeg',\n",
       "       'deathIncrease', 'hospitalizedIncrease', 'hash', 'commercialScore',\n",
       "       'negativeRegularScore', 'negativeScore', 'positiveScore', 'score',\n",
       "       'grade', 'positiveTestRate', '7sum_posCases', '14sum_posCases',\n",
       "       '21sum_posCases', '7sum_totTests', '14sum_totTests', '21sum_totTests',\n",
       "       '7ma_positiveTestRate', '14ma_positiveTestRate',\n",
       "       '21ma_positiveTestRate', '7sum_totHospitalizedIncrease',\n",
       "       '14sum_totHospitalizedIncrease', '21sum_totHospitalizedIncrease',\n",
       "       '7sum_deathIncrease', '14sum_deathIncrease', '21sum_deathIncrease',\n",
       "       '7ma_deathIncrease', '14ma_deathIncrease', '21ma_deathIncrease',\n",
       "       'positiveIncrease_y'],\n",
       "      dtype='object')"
      ]
     },
     "execution_count": 95,
     "metadata": {},
     "output_type": "execute_result"
    }
   ],
   "source": [
    "data3.columns"
   ]
  },
  {
   "cell_type": "code",
   "execution_count": 96,
   "metadata": {},
   "outputs": [],
   "source": [
    "data3['percentOfTotal'] = data3['positiveIncrease_x'] / data3['positiveIncrease_y'] * 100"
   ]
  },
  {
   "cell_type": "code",
   "execution_count": 87,
   "metadata": {},
   "outputs": [
    {
     "data": {
      "text/plain": [
       "date                  2020-07-03 00:00:00\n",
       "state                                  AK\n",
       "positive                             1063\n",
       "negative                           119145\n",
       "pending                                 0\n",
       "                             ...         \n",
       "14ma_deathIncrease               0.214286\n",
       "21ma_deathIncrease               0.142857\n",
       "cumulative                            NaN\n",
       "positiveIncrease_y                  57562\n",
       "percentOfTotal                  0.0799138\n",
       "Name: 0, Length: 61, dtype: object"
      ]
     },
     "execution_count": 87,
     "metadata": {},
     "output_type": "execute_result"
    }
   ],
   "source": [
    "data3[data3.positiveIncrease_y > 999].iloc[0]"
   ]
  },
  {
   "cell_type": "code",
   "execution_count": 29,
   "metadata": {},
   "outputs": [
    {
     "data": {
      "text/plain": [
       "'This is another way to do it\\ndata[\"sumvalue\"] = (data.groupby(\\'state\\').positiveIncrease\\n                      .apply(lambda x: x.rolling(window=7).sum().shift(-6)))'"
      ]
     },
     "execution_count": 29,
     "metadata": {},
     "output_type": "execute_result"
    }
   ],
   "source": [
    "'''This is another way to do it\n",
    "data[\"sumvalue\"] = (data.groupby('state').positiveIncrease\n",
    "                      .apply(lambda x: x.rolling(window=7).sum().shift(-6)))'''"
   ]
  },
  {
   "cell_type": "markdown",
   "metadata": {},
   "source": [
    "### Export the data"
   ]
  },
  {
   "cell_type": "code",
   "execution_count": 98,
   "metadata": {},
   "outputs": [],
   "source": [
    "data3.to_csv('checkpoint1.csv', index=False)"
   ]
  },
  {
   "cell_type": "code",
   "execution_count": 33,
   "metadata": {},
   "outputs": [],
   "source": [
    "alabama = data['state'] == 'AL'\n",
    "data_al = data[alabama]\n",
    "\n",
    "alaska = data['state'] == 'AK'\n",
    "data_ak = data[alaska]\n",
    "\n",
    "arizona = data['state'] == 'AZ'\n",
    "data_az = data[arizona]\n",
    "\n",
    "arkansas = data['state'] == 'AR'\n",
    "data_ar = data[arkansas]\n",
    "\n",
    "california = data['state'] == 'CA'\n",
    "data_ca = data[california]\n",
    "\n",
    "colorado = data['state'] == 'CO'\n",
    "data_co = data[colorado]\n",
    "\n",
    "connecticut = data['state'] == 'CT'\n",
    "data_ct = data[connecticut]\n",
    "\n",
    "district = data['state'] == 'DC'\n",
    "data_dc = data[district]\n",
    "\n",
    "delaware = data['state'] == 'DE'\n",
    "data_de = data[delaware]\n",
    "\n",
    "florida = data['state'] == 'FL'\n",
    "data_fl = data[florida]\n",
    "\n",
    "georgia = data['state'] == 'GA'\n",
    "data_ga = data[georgia]\n",
    "\n",
    "hawaii = data['state'] == 'HI'\n",
    "data_hi = data[hawaii]\n",
    "\n",
    "idaho = data['state'] == 'ID'\n",
    "data_id = data[idaho]\n",
    "\n",
    "indiana = data['state'] == 'IN'\n",
    "data_in = data[indiana]\n",
    "\n",
    "iowa = data['state'] == 'IA'\n",
    "data_ia = data[iowa]\n",
    "\n",
    "kansas = data['state'] == 'KS'\n",
    "data_ks = data[kansas]\n",
    "\n",
    "kentucky = data['state'] == 'KY'\n",
    "data_ky = data[kentucky]\n",
    "\n",
    "loiusiana = data['state'] == 'LA'\n",
    "data_la = data[loiusiana]\n",
    "\n",
    "maine = data['state'] == 'ME'\n",
    "data_me = data[maine]\n",
    "\n",
    "maryland = data['state'] == 'MD'\n",
    "data_md = data[maryland]\n",
    "\n",
    "massachusetts = data['state'] == 'MA'\n",
    "data_ma = data[massachusetts]\n",
    "\n",
    "michigan = data['state'] == 'MI'\n",
    "data_mi = data[michigan]\n",
    "\n",
    "minnesota = data['state'] == 'MN'\n",
    "data_mn = data[minnesota]\n",
    "\n",
    "mississippi = data['state'] == 'MS'\n",
    "data_ms = data[mississippi]\n",
    "\n",
    "missouri = data['state'] == 'MO'\n",
    "data_mo = data[missouri]\n",
    "\n",
    "montana = data['state'] == 'MS'\n",
    "data_mt = data[montana]\n",
    "\n",
    "nebraska = data['state'] == 'NE'\n",
    "data_ne = data[nebraska]\n",
    "\n",
    "new_hampshire = data['state'] == 'NH'\n",
    "data_nh = data[new_hampshire]\n",
    "\n",
    "new_jersey = data['state'] == 'NJ'\n",
    "data_nj = data[new_jersey]\n",
    "\n",
    "new_mexico = data['state'] == 'NM'\n",
    "data_nm = data[new_mexico]\n",
    "\n",
    "nevada = data['state'] == 'NV'\n",
    "data_nv = data[nevada]\n",
    "\n",
    "new_york = data['state'] == 'NY'\n",
    "data_ny = data[new_york]\n",
    "\n",
    "north_carolina = data['state'] == 'NC'\n",
    "data_nc = data[north_carolina]\n",
    "\n",
    "north_dakota = data['state'] == 'ND'\n",
    "data_nd = data[north_dakota]\n",
    "\n",
    "ohio = data['state'] == 'OH'\n",
    "data_oh = data[ohio]\n",
    "\n",
    "oklahoma = data['state'] == 'OK'\n",
    "data_ok = data[oklahoma]\n",
    "\n",
    "oregon = data['state'] == 'OR'\n",
    "data_or = data[oregon]\n",
    "\n",
    "pennsylvania = data['state'] == 'PA'\n",
    "data_pa = data[pennsylvania]\n",
    "\n",
    "rhode_island = data['state'] == 'RI'\n",
    "data_ri = data[rhode_island]\n",
    "\n",
    "south_carolina = data['state'] == 'SC'\n",
    "data_sc = data[south_carolina]\n",
    "\n",
    "south_dakota = data['state'] == 'SD'\n",
    "data_sd = data[south_dakota]\n",
    "\n",
    "tennessee = data['state'] == 'TN'\n",
    "data_tn = data[tennessee]\n",
    "\n",
    "texas = data['state'] == 'TX'\n",
    "data_tx = data[texas]\n",
    "\n",
    "utah = data['state'] == 'UT'\n",
    "data_ut = data[utah]\n",
    "\n",
    "vermont = data['state'] == 'VT'\n",
    "data_vt = data[vermont]\n",
    "\n",
    "virginia = data['state'] == 'VA'\n",
    "data_va = data[virginia]\n",
    "\n",
    "west_virginia = data['state'] == 'WV'\n",
    "data_wv = data[west_virginia]\n",
    "\n",
    "wi = data['state'] == 'WI'\n",
    "data_wi = data[wi]\n",
    "\n",
    "wyoming = data['state'] == 'WY'\n",
    "data_wy = data[wyoming]"
   ]
  },
  {
   "cell_type": "code",
   "execution_count": 34,
   "metadata": {},
   "outputs": [],
   "source": [
    "data_al.to_csv('data_al.csv', index=False)\n",
    "data_ak.to_csv('data_ak.csv', index=False)\n",
    "data_az.to_csv('data_az.csv', index=False)\n",
    "data_ar.to_csv('data_ar.csv', index=False)\n",
    "data_ca.to_csv('data_ca.csv', index=False)\n",
    "data_co.to_csv('data_co.csv', index=False)\n",
    "data_ct.to_csv('data_ct.csv', index=False)\n",
    "data_dc.to_csv('data_dc.csv', index=False)\n",
    "data_de.to_csv('data_de.csv', index=False)\n",
    "data_fl.to_csv('data_fl.csv', index=False)\n",
    "data_ga.to_csv('data_ga.csv', index=False)\n",
    "data_hi.to_csv('data_hi.csv', index=False)\n",
    "data_id.to_csv('data_id.csv', index=False)\n",
    "data_in.to_csv('data_in.csv', index=False)\n",
    "data_ia.to_csv('data_ia.csv', index=False)\n",
    "data_ks.to_csv('data_ks.csv', index=False)\n",
    "data_ky.to_csv('data_ky.csv', index=False)\n",
    "data_me.to_csv('data_me.csv', index=False)\n",
    "data_md.to_csv('data_md.csv', index=False)\n",
    "data_ma.to_csv('data_ma.csv', index=False)\n",
    "data_mi.to_csv('data_mi.csv', index=False)\n",
    "data_mn.to_csv('data_mn.csv', index=False)\n",
    "data_ms.to_csv('data_ms.csv', index=False)\n",
    "data_mo.to_csv('data_mo.csv', index=False)\n",
    "data_mt.to_csv('data_mt.csv', index=False)\n",
    "data_ne.to_csv('data_ne.csv', index=False)\n",
    "data_nh.to_csv('data_nh.csv', index=False)\n",
    "data_nj.to_csv('data_nj.csv', index=False)\n",
    "data_nm.to_csv('data_nm.csv', index=False)\n",
    "data_nv.to_csv('data_nv.csv', index=False)\n",
    "data_ny.to_csv('data_ny.csv', index=False)\n",
    "data_nc.to_csv('data_nc.csv', index=False)\n",
    "data_nd.to_csv('data_nd.csv', index=False)\n",
    "data_oh.to_csv('data_oh.csv', index=False)\n",
    "data_ok.to_csv('data_ok.csv', index=False)\n",
    "data_or.to_csv('data_or.csv', index=False)\n",
    "data_pa.to_csv('data_pa.csv', index=False)\n",
    "data_ri.to_csv('data_ri.csv', index=False)\n",
    "data_sc.to_csv('data_sc.csv', index=False)\n",
    "data_sd.to_csv('data_sd.csv', index=False)\n",
    "data_tn.to_csv('data_tn.csv', index=False)\n",
    "data_tx.to_csv('data_tx.csv', index=False)\n",
    "data_ut.to_csv('data_ut.csv', index=False)\n",
    "data_vt.to_csv('data_vt.csv', index=False)\n",
    "data_va.to_csv('data_va.csv', index=False)\n",
    "data_wv.to_csv('data_wv.csv', index=False)\n",
    "data_wi.to_csv('data_wi.csv', index=False)\n",
    "data_wy.to_csv('data_wy.csv', index=False)"
   ]
  },
  {
   "cell_type": "markdown",
   "metadata": {},
   "source": [
    "### CDC county data"
   ]
  },
  {
   "cell_type": "code",
   "execution_count": 140,
   "metadata": {},
   "outputs": [],
   "source": [
    "cdc_url_cases = 'https://usafactsstatic.blob.core.windows.net/public/data/covid-19/covid_confirmed_usafacts.csv'\n",
    "cdc_url_deaths = 'https://usafactsstatic.blob.core.windows.net/public/data/covid-19/covid_deaths_usafacts.csv'"
   ]
  },
  {
   "cell_type": "code",
   "execution_count": 145,
   "metadata": {},
   "outputs": [],
   "source": [
    "cdc_df = pd.read_csv(cdc_url_cases)\n",
    "cdc_death_df = pd.read_csv(cdc_url_deaths)"
   ]
  },
  {
   "cell_type": "code",
   "execution_count": 146,
   "metadata": {},
   "outputs": [],
   "source": [
    "cdc_df.rename(columns={'County Name': 'CountyName'}, inplace=True)\n",
    "cdc_death_df.rename(columns={'County Name': 'CountyName'}, inplace=True)"
   ]
  },
  {
   "cell_type": "code",
   "execution_count": 147,
   "metadata": {},
   "outputs": [],
   "source": [
    "border_counties_cases = cdc_df[(cdc_df.countyFIPS.isin([4003, 4019, 4023, 4027, 6073, 6025]))]\n",
    "border_counties_deaths = cdc_death_df[(cdc_death_df.countyFIPS.isin([4003, 4019, 4023, 4027, 6073, 6025]))]"
   ]
  },
  {
   "cell_type": "code",
   "execution_count": 148,
   "metadata": {},
   "outputs": [
    {
     "name": "stderr",
     "output_type": "stream",
     "text": [
      "/Users/mikecave/anaconda3/envs/alpha/lib/python3.7/site-packages/ipykernel_launcher.py:1: SettingWithCopyWarning: \n",
      "A value is trying to be set on a copy of a slice from a DataFrame.\n",
      "Try using .loc[row_indexer,col_indexer] = value instead\n",
      "\n",
      "See the caveats in the documentation: https://pandas.pydata.org/pandas-docs/stable/user_guide/indexing.html#returning-a-view-versus-a-copy\n",
      "  \"\"\"Entry point for launching an IPython kernel.\n",
      "/Users/mikecave/anaconda3/envs/alpha/lib/python3.7/site-packages/ipykernel_launcher.py:2: SettingWithCopyWarning: \n",
      "A value is trying to be set on a copy of a slice from a DataFrame.\n",
      "Try using .loc[row_indexer,col_indexer] = value instead\n",
      "\n",
      "See the caveats in the documentation: https://pandas.pydata.org/pandas-docs/stable/user_guide/indexing.html#returning-a-view-versus-a-copy\n",
      "  \n"
     ]
    }
   ],
   "source": [
    "border_counties_cases['border'] = 1\n",
    "border_counties_deaths['border'] = 1"
   ]
  },
  {
   "cell_type": "code",
   "execution_count": 155,
   "metadata": {},
   "outputs": [],
   "source": [
    "frames = [cdc_df, border_counties_cases]\n",
    "frames1 = [cdc_death_df, border_counties_deaths]"
   ]
  },
  {
   "cell_type": "code",
   "execution_count": 173,
   "metadata": {},
   "outputs": [],
   "source": [
    "result1 = pd.concat(frames1, axis=1, join='outer')\n",
    "result1 = result1.fillna(0)\n",
    "\n",
    "result = pd.concat(frames, axis=1, join='outer')\n",
    "result = result.fillna(0)"
   ]
  },
  {
   "cell_type": "code",
   "execution_count": 174,
   "metadata": {},
   "outputs": [],
   "source": [
    "result1.to_csv('cdc_deaths_by_county.csv', index=False)\n",
    "result.to_csv('cdc_cases_by_county.csv', index=False)"
   ]
  }
 ],
 "metadata": {
  "kernelspec": {
   "display_name": "Python [conda env:alpha] *",
   "language": "python",
   "name": "conda-env-alpha-py"
  },
  "language_info": {
   "codemirror_mode": {
    "name": "ipython",
    "version": 3
   },
   "file_extension": ".py",
   "mimetype": "text/x-python",
   "name": "python",
   "nbconvert_exporter": "python",
   "pygments_lexer": "ipython3",
   "version": "3.7.6"
  }
 },
 "nbformat": 4,
 "nbformat_minor": 4
}
